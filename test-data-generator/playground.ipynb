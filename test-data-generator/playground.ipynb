{
 "cells": [
  {
   "cell_type": "code",
   "execution_count": 1,
   "metadata": {},
   "outputs": [],
   "source": [
    "import pandas as pd"
   ]
  },
  {
   "cell_type": "code",
   "execution_count": 25,
   "metadata": {},
   "outputs": [
    {
     "data": {
      "text/plain": [
       "id_1         int64\n",
       "city        object\n",
       "zip_code    object\n",
       "state       object\n",
       "dtype: object"
      ]
     },
     "execution_count": 25,
     "metadata": {},
     "output_type": "execute_result"
    }
   ],
   "source": [
    "pdf_city = pd.read_csv('input/zip_code_city.csv', sep=';', names=['id_1','city', 'zip_code', 'state'])\n",
    "pdf_city['zip_code'] = pdf_city['zip_code'].astype(str).str.rjust(5,'0')\n",
    "pdf_city.dtypes"
   ]
  },
  {
   "cell_type": "code",
   "execution_count": 26,
   "metadata": {},
   "outputs": [
    {
     "data": {
      "text/plain": [
       "zip_code     object\n",
       "city_bad     object\n",
       "lon         float64\n",
       "lat         float64\n",
       "dtype: object"
      ]
     },
     "execution_count": 26,
     "metadata": {},
     "output_type": "execute_result"
    }
   ],
   "source": [
    "pdf_coord = pd.read_csv('input/zip_code_coord.csv', sep=';', names=['zip_code','city_bad', 'lon', 'lat'])\n",
    "pdf_coord['zip_code'] = pdf_coord['zip_code'].astype(str).str.rjust(5,'0')\n",
    "pdf_coord.dtypes"
   ]
  },
  {
   "cell_type": "code",
   "execution_count": 30,
   "metadata": {},
   "outputs": [],
   "source": [
    "pdf = pdf_city.merge(pdf_coord, on='zip_code', how=\"left\")\n",
    "pdf[['zip_code', 'city', 'lon', 'lat']].to_csv('zip_code_coord_city_mapping.csv', index=False)"
   ]
  },
  {
   "cell_type": "code",
   "execution_count": null,
   "metadata": {},
   "outputs": [],
   "source": []
  },
  {
   "cell_type": "code",
   "execution_count": null,
   "metadata": {},
   "outputs": [],
   "source": []
  }
 ],
 "metadata": {
  "kernelspec": {
   "display_name": "Python 3",
   "language": "python",
   "name": "python3"
  },
  "language_info": {
   "codemirror_mode": {
    "name": "ipython",
    "version": 3
   },
   "file_extension": ".py",
   "mimetype": "text/x-python",
   "name": "python",
   "nbconvert_exporter": "python",
   "pygments_lexer": "ipython3",
   "version": "3.8.3"
  }
 },
 "nbformat": 4,
 "nbformat_minor": 4
}
